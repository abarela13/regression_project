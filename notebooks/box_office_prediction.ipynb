{
 "metadata": {
  "language_info": {
   "codemirror_mode": {
    "name": "ipython",
    "version": 3
   },
   "file_extension": ".py",
   "mimetype": "text/x-python",
   "name": "python",
   "nbconvert_exporter": "python",
   "pygments_lexer": "ipython3",
   "version": "3.8.5-final"
  },
  "orig_nbformat": 2,
  "kernelspec": {
   "name": "python3",
   "display_name": "Python 3",
   "language": "python"
  }
 },
 "nbformat": 4,
 "nbformat_minor": 2,
 "cells": [
  {
   "cell_type": "code",
   "execution_count": 1,
   "metadata": {},
   "outputs": [],
   "source": [
    "import boxofficemojo_scraper\n",
    "import pandas as pd\n",
    "import pickle"
   ]
  },
  {
   "cell_type": "code",
   "execution_count": 2,
   "metadata": {
    "tags": []
   },
   "outputs": [],
   "source": [
    "# boxofficemojo_scraper.generate_yearly_dataframes(2010, 2019)"
   ]
  },
  {
   "cell_type": "code",
   "execution_count": 3,
   "metadata": {},
   "outputs": [
    {
     "output_type": "execute_result",
     "data": {
      "text/plain": [
       "                      title domestic_gross  \\\n",
       "0         Avengers: Endgame      858373000   \n",
       "1             The Lion King      543638043   \n",
       "2               Toy Story 4      434038008   \n",
       "3                 Frozen II      477373578   \n",
       "4            Captain Marvel      426829839   \n",
       "...                     ...            ...   \n",
       "8316              Box Elder          48996   \n",
       "8317  The Blue Tooth Virgin           2762   \n",
       "8318    Breakfast with Scot          46060   \n",
       "8319         To Die Is Hard           5129   \n",
       "8320  From Mexico with Love         548787   \n",
       "\n",
       "                              distributor     budget release_date rating  \\\n",
       "0     Walt Disney Studios Motion Pictures  356000000       Apr 26  PG-13   \n",
       "1     Walt Disney Studios Motion Pictures  260000000       Jul 19     PG   \n",
       "2     Walt Disney Studios Motion Pictures  200000000       Jun 21      G   \n",
       "3     Walt Disney Studios Motion Pictures  150000000       Nov 22     PG   \n",
       "4     Walt Disney Studios Motion Pictures  160000000        Mar 8  PG-13   \n",
       "...                                   ...        ...          ...    ...   \n",
       "8316                                            None        Mar 3   None   \n",
       "8317                     Regent Releasing       None       Sep 25      R   \n",
       "8318                     Regent Releasing       None       Oct 10  PG-13   \n",
       "8319           Driving With Our Eyes Shut       None       Dec 17   None   \n",
       "8320                 Roadside Attractions       None        Oct 9  PG-13   \n",
       "\n",
       "                                                  genre release_duration  \n",
       "0                         Action,Adventure,Drama,Sci-Fi              250  \n",
       "1              Adventure,Animation,Drama,Family,Musical              168  \n",
       "2             Adventure,Animation,Comedy,Family,Fantasy              196  \n",
       "3     Adventure,Animation,Comedy,Family,Fantasy,Musical              421  \n",
       "4                               Action,Adventure,Sci-Fi              299  \n",
       "...                                                 ...              ...  \n",
       "8316                                             Comedy            1,034  \n",
       "8317                                       Comedy,Drama              463  \n",
       "8318                   Comedy,Drama,Music,Romance,Sport              813  \n",
       "8319                                      Action,Comedy            2,937  \n",
       "8320                          Action,Drama,Family,Sport              449  \n",
       "\n",
       "[8321 rows x 8 columns]"
      ],
      "text/html": "<div>\n<style scoped>\n    .dataframe tbody tr th:only-of-type {\n        vertical-align: middle;\n    }\n\n    .dataframe tbody tr th {\n        vertical-align: top;\n    }\n\n    .dataframe thead th {\n        text-align: right;\n    }\n</style>\n<table border=\"1\" class=\"dataframe\">\n  <thead>\n    <tr style=\"text-align: right;\">\n      <th></th>\n      <th>title</th>\n      <th>domestic_gross</th>\n      <th>distributor</th>\n      <th>budget</th>\n      <th>release_date</th>\n      <th>rating</th>\n      <th>genre</th>\n      <th>release_duration</th>\n    </tr>\n  </thead>\n  <tbody>\n    <tr>\n      <th>0</th>\n      <td>Avengers: Endgame</td>\n      <td>858373000</td>\n      <td>Walt Disney Studios Motion Pictures</td>\n      <td>356000000</td>\n      <td>Apr 26</td>\n      <td>PG-13</td>\n      <td>Action,Adventure,Drama,Sci-Fi</td>\n      <td>250</td>\n    </tr>\n    <tr>\n      <th>1</th>\n      <td>The Lion King</td>\n      <td>543638043</td>\n      <td>Walt Disney Studios Motion Pictures</td>\n      <td>260000000</td>\n      <td>Jul 19</td>\n      <td>PG</td>\n      <td>Adventure,Animation,Drama,Family,Musical</td>\n      <td>168</td>\n    </tr>\n    <tr>\n      <th>2</th>\n      <td>Toy Story 4</td>\n      <td>434038008</td>\n      <td>Walt Disney Studios Motion Pictures</td>\n      <td>200000000</td>\n      <td>Jun 21</td>\n      <td>G</td>\n      <td>Adventure,Animation,Comedy,Family,Fantasy</td>\n      <td>196</td>\n    </tr>\n    <tr>\n      <th>3</th>\n      <td>Frozen II</td>\n      <td>477373578</td>\n      <td>Walt Disney Studios Motion Pictures</td>\n      <td>150000000</td>\n      <td>Nov 22</td>\n      <td>PG</td>\n      <td>Adventure,Animation,Comedy,Family,Fantasy,Musical</td>\n      <td>421</td>\n    </tr>\n    <tr>\n      <th>4</th>\n      <td>Captain Marvel</td>\n      <td>426829839</td>\n      <td>Walt Disney Studios Motion Pictures</td>\n      <td>160000000</td>\n      <td>Mar 8</td>\n      <td>PG-13</td>\n      <td>Action,Adventure,Sci-Fi</td>\n      <td>299</td>\n    </tr>\n    <tr>\n      <th>...</th>\n      <td>...</td>\n      <td>...</td>\n      <td>...</td>\n      <td>...</td>\n      <td>...</td>\n      <td>...</td>\n      <td>...</td>\n      <td>...</td>\n    </tr>\n    <tr>\n      <th>8316</th>\n      <td>Box Elder</td>\n      <td>48996</td>\n      <td></td>\n      <td>None</td>\n      <td>Mar 3</td>\n      <td>None</td>\n      <td>Comedy</td>\n      <td>1,034</td>\n    </tr>\n    <tr>\n      <th>8317</th>\n      <td>The Blue Tooth Virgin</td>\n      <td>2762</td>\n      <td>Regent Releasing</td>\n      <td>None</td>\n      <td>Sep 25</td>\n      <td>R</td>\n      <td>Comedy,Drama</td>\n      <td>463</td>\n    </tr>\n    <tr>\n      <th>8318</th>\n      <td>Breakfast with Scot</td>\n      <td>46060</td>\n      <td>Regent Releasing</td>\n      <td>None</td>\n      <td>Oct 10</td>\n      <td>PG-13</td>\n      <td>Comedy,Drama,Music,Romance,Sport</td>\n      <td>813</td>\n    </tr>\n    <tr>\n      <th>8319</th>\n      <td>To Die Is Hard</td>\n      <td>5129</td>\n      <td>Driving With Our Eyes Shut</td>\n      <td>None</td>\n      <td>Dec 17</td>\n      <td>None</td>\n      <td>Action,Comedy</td>\n      <td>2,937</td>\n    </tr>\n    <tr>\n      <th>8320</th>\n      <td>From Mexico with Love</td>\n      <td>548787</td>\n      <td>Roadside Attractions</td>\n      <td>None</td>\n      <td>Oct 9</td>\n      <td>PG-13</td>\n      <td>Action,Drama,Family,Sport</td>\n      <td>449</td>\n    </tr>\n  </tbody>\n</table>\n<p>8321 rows × 8 columns</p>\n</div>"
     },
     "metadata": {},
     "execution_count": 3
    }
   ],
   "source": [
    "bom_df = []\n",
    "\n",
    "for year in range(2019, 2009, -1):\n",
    "    with open(f'../data/yearly_2d_lists/{year}_list','rb') as read_file:\n",
    "        year_list = pickle.load(read_file)\n",
    "\n",
    "    bom_df = bom_df + year_list\n",
    "\n",
    "df = pd.DataFrame(bom_df, columns = ['title','domestic_gross', 'distributor', 'budget', 'release_date', 'rating', 'genre', 'release_duration'])\n",
    "\n",
    "df"
   ]
  },
  {
   "cell_type": "code",
   "execution_count": 4,
   "metadata": {},
   "outputs": [],
   "source": [
    "df['movie_id'] = df.title + ' - ' + df.release_date"
   ]
  },
  {
   "cell_type": "code",
   "execution_count": 5,
   "metadata": {},
   "outputs": [
    {
     "output_type": "execute_result",
     "data": {
      "text/plain": [
       "       title domestic_gross   distributor budget release_date rating  \\\n",
       "19   Aquaman      335061807  Warner Bros.   None       Dec 21  PG-13   \n",
       "923  Aquaman      335061807  Warner Bros.   None       Dec 21  PG-13   \n",
       "\n",
       "                               genre release_duration          movie_id  \n",
       "19   Action,Adventure,Fantasy,Sci-Fi              376  Aquaman - Dec 21  \n",
       "923  Action,Adventure,Fantasy,Sci-Fi              376  Aquaman - Dec 21  "
      ],
      "text/html": "<div>\n<style scoped>\n    .dataframe tbody tr th:only-of-type {\n        vertical-align: middle;\n    }\n\n    .dataframe tbody tr th {\n        vertical-align: top;\n    }\n\n    .dataframe thead th {\n        text-align: right;\n    }\n</style>\n<table border=\"1\" class=\"dataframe\">\n  <thead>\n    <tr style=\"text-align: right;\">\n      <th></th>\n      <th>title</th>\n      <th>domestic_gross</th>\n      <th>distributor</th>\n      <th>budget</th>\n      <th>release_date</th>\n      <th>rating</th>\n      <th>genre</th>\n      <th>release_duration</th>\n      <th>movie_id</th>\n    </tr>\n  </thead>\n  <tbody>\n    <tr>\n      <th>19</th>\n      <td>Aquaman</td>\n      <td>335061807</td>\n      <td>Warner Bros.</td>\n      <td>None</td>\n      <td>Dec 21</td>\n      <td>PG-13</td>\n      <td>Action,Adventure,Fantasy,Sci-Fi</td>\n      <td>376</td>\n      <td>Aquaman - Dec 21</td>\n    </tr>\n    <tr>\n      <th>923</th>\n      <td>Aquaman</td>\n      <td>335061807</td>\n      <td>Warner Bros.</td>\n      <td>None</td>\n      <td>Dec 21</td>\n      <td>PG-13</td>\n      <td>Action,Adventure,Fantasy,Sci-Fi</td>\n      <td>376</td>\n      <td>Aquaman - Dec 21</td>\n    </tr>\n  </tbody>\n</table>\n</div>"
     },
     "metadata": {},
     "execution_count": 5
    }
   ],
   "source": [
    "df.loc[df['title'] == 'Aquaman']"
   ]
  },
  {
   "cell_type": "code",
   "execution_count": 6,
   "metadata": {},
   "outputs": [
    {
     "output_type": "execute_result",
     "data": {
      "text/plain": [
       "      title domestic_gross   distributor budget release_date rating  \\\n",
       "19  Aquaman      335061807  Warner Bros.   None       Dec 21  PG-13   \n",
       "\n",
       "                              genre release_duration          movie_id  \n",
       "19  Action,Adventure,Fantasy,Sci-Fi              376  Aquaman - Dec 21  "
      ],
      "text/html": "<div>\n<style scoped>\n    .dataframe tbody tr th:only-of-type {\n        vertical-align: middle;\n    }\n\n    .dataframe tbody tr th {\n        vertical-align: top;\n    }\n\n    .dataframe thead th {\n        text-align: right;\n    }\n</style>\n<table border=\"1\" class=\"dataframe\">\n  <thead>\n    <tr style=\"text-align: right;\">\n      <th></th>\n      <th>title</th>\n      <th>domestic_gross</th>\n      <th>distributor</th>\n      <th>budget</th>\n      <th>release_date</th>\n      <th>rating</th>\n      <th>genre</th>\n      <th>release_duration</th>\n      <th>movie_id</th>\n    </tr>\n  </thead>\n  <tbody>\n    <tr>\n      <th>19</th>\n      <td>Aquaman</td>\n      <td>335061807</td>\n      <td>Warner Bros.</td>\n      <td>None</td>\n      <td>Dec 21</td>\n      <td>PG-13</td>\n      <td>Action,Adventure,Fantasy,Sci-Fi</td>\n      <td>376</td>\n      <td>Aquaman - Dec 21</td>\n    </tr>\n  </tbody>\n</table>\n</div>"
     },
     "metadata": {},
     "execution_count": 6
    }
   ],
   "source": [
    "df = df.drop_duplicates(subset=['movie_id'])\n",
    "df.loc[df['title'] == 'Aquaman']"
   ]
  },
  {
   "cell_type": "code",
   "execution_count": 7,
   "metadata": {},
   "outputs": [
    {
     "output_type": "execute_result",
     "data": {
      "text/plain": [
       "       rank  release_date                                        title  \\\n",
       "0         1  Apr 23, 2019                            Avengers: Endgame   \n",
       "1         2  May 20, 2011  Pirates of the Caribbean: On Stranger Tides   \n",
       "2         3  Apr 22, 2015                      Avengers: Age of Ultron   \n",
       "3         4  Dec 16, 2015         Star Wars Ep. VII: The Force Awakens   \n",
       "4         5  Apr 25, 2018                       Avengers: Infinity War   \n",
       "...     ...           ...                                          ...   \n",
       "2380  6,067  Nov 25, 2011                                   The Ridges   \n",
       "2381  6,069   Apr 2, 2010                             Breaking Upwards   \n",
       "2382  6,080  May 19, 2015                             Family Motocross   \n",
       "2383  6,081  Jan 13, 2012                                    Newlyweds   \n",
       "2384  6,089  Sep 29, 2015                         A Plague So Pleasant   \n",
       "\n",
       "      tn_budget  \n",
       "0     400000000  \n",
       "1     379000000  \n",
       "2     365000000  \n",
       "3     306000000  \n",
       "4     300000000  \n",
       "...         ...  \n",
       "2380      17300  \n",
       "2381      15000  \n",
       "2382      10000  \n",
       "2383       9000  \n",
       "2384       1400  \n",
       "\n",
       "[2385 rows x 4 columns]"
      ],
      "text/html": "<div>\n<style scoped>\n    .dataframe tbody tr th:only-of-type {\n        vertical-align: middle;\n    }\n\n    .dataframe tbody tr th {\n        vertical-align: top;\n    }\n\n    .dataframe thead th {\n        text-align: right;\n    }\n</style>\n<table border=\"1\" class=\"dataframe\">\n  <thead>\n    <tr style=\"text-align: right;\">\n      <th></th>\n      <th>rank</th>\n      <th>release_date</th>\n      <th>title</th>\n      <th>tn_budget</th>\n    </tr>\n  </thead>\n  <tbody>\n    <tr>\n      <th>0</th>\n      <td>1</td>\n      <td>Apr 23, 2019</td>\n      <td>Avengers: Endgame</td>\n      <td>400000000</td>\n    </tr>\n    <tr>\n      <th>1</th>\n      <td>2</td>\n      <td>May 20, 2011</td>\n      <td>Pirates of the Caribbean: On Stranger Tides</td>\n      <td>379000000</td>\n    </tr>\n    <tr>\n      <th>2</th>\n      <td>3</td>\n      <td>Apr 22, 2015</td>\n      <td>Avengers: Age of Ultron</td>\n      <td>365000000</td>\n    </tr>\n    <tr>\n      <th>3</th>\n      <td>4</td>\n      <td>Dec 16, 2015</td>\n      <td>Star Wars Ep. VII: The Force Awakens</td>\n      <td>306000000</td>\n    </tr>\n    <tr>\n      <th>4</th>\n      <td>5</td>\n      <td>Apr 25, 2018</td>\n      <td>Avengers: Infinity War</td>\n      <td>300000000</td>\n    </tr>\n    <tr>\n      <th>...</th>\n      <td>...</td>\n      <td>...</td>\n      <td>...</td>\n      <td>...</td>\n    </tr>\n    <tr>\n      <th>2380</th>\n      <td>6,067</td>\n      <td>Nov 25, 2011</td>\n      <td>The Ridges</td>\n      <td>17300</td>\n    </tr>\n    <tr>\n      <th>2381</th>\n      <td>6,069</td>\n      <td>Apr 2, 2010</td>\n      <td>Breaking Upwards</td>\n      <td>15000</td>\n    </tr>\n    <tr>\n      <th>2382</th>\n      <td>6,080</td>\n      <td>May 19, 2015</td>\n      <td>Family Motocross</td>\n      <td>10000</td>\n    </tr>\n    <tr>\n      <th>2383</th>\n      <td>6,081</td>\n      <td>Jan 13, 2012</td>\n      <td>Newlyweds</td>\n      <td>9000</td>\n    </tr>\n    <tr>\n      <th>2384</th>\n      <td>6,089</td>\n      <td>Sep 29, 2015</td>\n      <td>A Plague So Pleasant</td>\n      <td>1400</td>\n    </tr>\n  </tbody>\n</table>\n<p>2385 rows × 4 columns</p>\n</div>"
     },
     "metadata": {},
     "execution_count": 7
    }
   ],
   "source": [
    "with open(f'../data/the_numbers/budgets_df','rb') as read_file:\n",
    "\tbudgets_df = pickle.load(read_file)\n",
    "\n",
    "budgets_df"
   ]
  },
  {
   "cell_type": "code",
   "execution_count": 8,
   "metadata": {},
   "outputs": [
    {
     "output_type": "error",
     "ename": "KeyError",
     "evalue": "\"['movie_id' 'rank'] not found in axis\"",
     "traceback": [
      "\u001b[0;31m---------------------------------------------------------------------------\u001b[0m",
      "\u001b[0;31mKeyError\u001b[0m                                  Traceback (most recent call last)",
      "\u001b[0;32m<ipython-input-8-5308f2051278>\u001b[0m in \u001b[0;36m<module>\u001b[0;34m\u001b[0m\n\u001b[1;32m      1\u001b[0m \u001b[0mmerged_df\u001b[0m \u001b[0;34m=\u001b[0m \u001b[0mdf\u001b[0m\u001b[0;34m.\u001b[0m\u001b[0mmerge\u001b[0m\u001b[0;34m(\u001b[0m\u001b[0mbudgets_df\u001b[0m\u001b[0;34m,\u001b[0m \u001b[0mhow\u001b[0m\u001b[0;34m=\u001b[0m\u001b[0;34m'left'\u001b[0m\u001b[0;34m,\u001b[0m \u001b[0mon\u001b[0m\u001b[0;34m=\u001b[0m\u001b[0;34m'title'\u001b[0m\u001b[0;34m)\u001b[0m\u001b[0;34m\u001b[0m\u001b[0;34m\u001b[0m\u001b[0m\n\u001b[0;32m----> 2\u001b[0;31m \u001b[0mmerged_df\u001b[0m\u001b[0;34m.\u001b[0m\u001b[0mdrop\u001b[0m\u001b[0;34m(\u001b[0m\u001b[0;34m[\u001b[0m\u001b[0;34m'movie_id'\u001b[0m\u001b[0;34m,\u001b[0m \u001b[0;34m'rank'\u001b[0m\u001b[0;34m]\u001b[0m\u001b[0;34m)\u001b[0m\u001b[0;34m\u001b[0m\u001b[0;34m\u001b[0m\u001b[0m\n\u001b[0m",
      "\u001b[0;32m~/.local/lib/python3.8/site-packages/pandas/core/frame.py\u001b[0m in \u001b[0;36mdrop\u001b[0;34m(self, labels, axis, index, columns, level, inplace, errors)\u001b[0m\n\u001b[1;32m   4165\u001b[0m                 \u001b[0mweight\u001b[0m  \u001b[0;36m1.0\u001b[0m     \u001b[0;36m0.8\u001b[0m\u001b[0;34m\u001b[0m\u001b[0;34m\u001b[0m\u001b[0m\n\u001b[1;32m   4166\u001b[0m         \"\"\"\n\u001b[0;32m-> 4167\u001b[0;31m         return super().drop(\n\u001b[0m\u001b[1;32m   4168\u001b[0m             \u001b[0mlabels\u001b[0m\u001b[0;34m=\u001b[0m\u001b[0mlabels\u001b[0m\u001b[0;34m,\u001b[0m\u001b[0;34m\u001b[0m\u001b[0;34m\u001b[0m\u001b[0m\n\u001b[1;32m   4169\u001b[0m             \u001b[0maxis\u001b[0m\u001b[0;34m=\u001b[0m\u001b[0maxis\u001b[0m\u001b[0;34m,\u001b[0m\u001b[0;34m\u001b[0m\u001b[0;34m\u001b[0m\u001b[0m\n",
      "\u001b[0;32m~/.local/lib/python3.8/site-packages/pandas/core/generic.py\u001b[0m in \u001b[0;36mdrop\u001b[0;34m(self, labels, axis, index, columns, level, inplace, errors)\u001b[0m\n\u001b[1;32m   3887\u001b[0m         \u001b[0;32mfor\u001b[0m \u001b[0maxis\u001b[0m\u001b[0;34m,\u001b[0m \u001b[0mlabels\u001b[0m \u001b[0;32min\u001b[0m \u001b[0maxes\u001b[0m\u001b[0;34m.\u001b[0m\u001b[0mitems\u001b[0m\u001b[0;34m(\u001b[0m\u001b[0;34m)\u001b[0m\u001b[0;34m:\u001b[0m\u001b[0;34m\u001b[0m\u001b[0;34m\u001b[0m\u001b[0m\n\u001b[1;32m   3888\u001b[0m             \u001b[0;32mif\u001b[0m \u001b[0mlabels\u001b[0m \u001b[0;32mis\u001b[0m \u001b[0;32mnot\u001b[0m \u001b[0;32mNone\u001b[0m\u001b[0;34m:\u001b[0m\u001b[0;34m\u001b[0m\u001b[0;34m\u001b[0m\u001b[0m\n\u001b[0;32m-> 3889\u001b[0;31m                 \u001b[0mobj\u001b[0m \u001b[0;34m=\u001b[0m \u001b[0mobj\u001b[0m\u001b[0;34m.\u001b[0m\u001b[0m_drop_axis\u001b[0m\u001b[0;34m(\u001b[0m\u001b[0mlabels\u001b[0m\u001b[0;34m,\u001b[0m \u001b[0maxis\u001b[0m\u001b[0;34m,\u001b[0m \u001b[0mlevel\u001b[0m\u001b[0;34m=\u001b[0m\u001b[0mlevel\u001b[0m\u001b[0;34m,\u001b[0m \u001b[0merrors\u001b[0m\u001b[0;34m=\u001b[0m\u001b[0merrors\u001b[0m\u001b[0;34m)\u001b[0m\u001b[0;34m\u001b[0m\u001b[0;34m\u001b[0m\u001b[0m\n\u001b[0m\u001b[1;32m   3890\u001b[0m \u001b[0;34m\u001b[0m\u001b[0m\n\u001b[1;32m   3891\u001b[0m         \u001b[0;32mif\u001b[0m \u001b[0minplace\u001b[0m\u001b[0;34m:\u001b[0m\u001b[0;34m\u001b[0m\u001b[0;34m\u001b[0m\u001b[0m\n",
      "\u001b[0;32m~/.local/lib/python3.8/site-packages/pandas/core/generic.py\u001b[0m in \u001b[0;36m_drop_axis\u001b[0;34m(self, labels, axis, level, errors)\u001b[0m\n\u001b[1;32m   3921\u001b[0m                 \u001b[0mnew_axis\u001b[0m \u001b[0;34m=\u001b[0m \u001b[0maxis\u001b[0m\u001b[0;34m.\u001b[0m\u001b[0mdrop\u001b[0m\u001b[0;34m(\u001b[0m\u001b[0mlabels\u001b[0m\u001b[0;34m,\u001b[0m \u001b[0mlevel\u001b[0m\u001b[0;34m=\u001b[0m\u001b[0mlevel\u001b[0m\u001b[0;34m,\u001b[0m \u001b[0merrors\u001b[0m\u001b[0;34m=\u001b[0m\u001b[0merrors\u001b[0m\u001b[0;34m)\u001b[0m\u001b[0;34m\u001b[0m\u001b[0;34m\u001b[0m\u001b[0m\n\u001b[1;32m   3922\u001b[0m             \u001b[0;32melse\u001b[0m\u001b[0;34m:\u001b[0m\u001b[0;34m\u001b[0m\u001b[0;34m\u001b[0m\u001b[0m\n\u001b[0;32m-> 3923\u001b[0;31m                 \u001b[0mnew_axis\u001b[0m \u001b[0;34m=\u001b[0m \u001b[0maxis\u001b[0m\u001b[0;34m.\u001b[0m\u001b[0mdrop\u001b[0m\u001b[0;34m(\u001b[0m\u001b[0mlabels\u001b[0m\u001b[0;34m,\u001b[0m \u001b[0merrors\u001b[0m\u001b[0;34m=\u001b[0m\u001b[0merrors\u001b[0m\u001b[0;34m)\u001b[0m\u001b[0;34m\u001b[0m\u001b[0;34m\u001b[0m\u001b[0m\n\u001b[0m\u001b[1;32m   3924\u001b[0m             \u001b[0mresult\u001b[0m \u001b[0;34m=\u001b[0m \u001b[0mself\u001b[0m\u001b[0;34m.\u001b[0m\u001b[0mreindex\u001b[0m\u001b[0;34m(\u001b[0m\u001b[0;34m**\u001b[0m\u001b[0;34m{\u001b[0m\u001b[0maxis_name\u001b[0m\u001b[0;34m:\u001b[0m \u001b[0mnew_axis\u001b[0m\u001b[0;34m}\u001b[0m\u001b[0;34m)\u001b[0m\u001b[0;34m\u001b[0m\u001b[0;34m\u001b[0m\u001b[0m\n\u001b[1;32m   3925\u001b[0m \u001b[0;34m\u001b[0m\u001b[0m\n",
      "\u001b[0;32m~/.local/lib/python3.8/site-packages/pandas/core/indexes/base.py\u001b[0m in \u001b[0;36mdrop\u001b[0;34m(self, labels, errors)\u001b[0m\n\u001b[1;32m   5285\u001b[0m         \u001b[0;32mif\u001b[0m \u001b[0mmask\u001b[0m\u001b[0;34m.\u001b[0m\u001b[0many\u001b[0m\u001b[0;34m(\u001b[0m\u001b[0;34m)\u001b[0m\u001b[0;34m:\u001b[0m\u001b[0;34m\u001b[0m\u001b[0;34m\u001b[0m\u001b[0m\n\u001b[1;32m   5286\u001b[0m             \u001b[0;32mif\u001b[0m \u001b[0merrors\u001b[0m \u001b[0;34m!=\u001b[0m \u001b[0;34m\"ignore\"\u001b[0m\u001b[0;34m:\u001b[0m\u001b[0;34m\u001b[0m\u001b[0;34m\u001b[0m\u001b[0m\n\u001b[0;32m-> 5287\u001b[0;31m                 \u001b[0;32mraise\u001b[0m \u001b[0mKeyError\u001b[0m\u001b[0;34m(\u001b[0m\u001b[0;34mf\"{labels[mask]} not found in axis\"\u001b[0m\u001b[0;34m)\u001b[0m\u001b[0;34m\u001b[0m\u001b[0;34m\u001b[0m\u001b[0m\n\u001b[0m\u001b[1;32m   5288\u001b[0m             \u001b[0mindexer\u001b[0m \u001b[0;34m=\u001b[0m \u001b[0mindexer\u001b[0m\u001b[0;34m[\u001b[0m\u001b[0;34m~\u001b[0m\u001b[0mmask\u001b[0m\u001b[0;34m]\u001b[0m\u001b[0;34m\u001b[0m\u001b[0;34m\u001b[0m\u001b[0m\n\u001b[1;32m   5289\u001b[0m         \u001b[0;32mreturn\u001b[0m \u001b[0mself\u001b[0m\u001b[0;34m.\u001b[0m\u001b[0mdelete\u001b[0m\u001b[0;34m(\u001b[0m\u001b[0mindexer\u001b[0m\u001b[0;34m)\u001b[0m\u001b[0;34m\u001b[0m\u001b[0;34m\u001b[0m\u001b[0m\n",
      "\u001b[0;31mKeyError\u001b[0m: \"['movie_id' 'rank'] not found in axis\""
     ]
    }
   ],
   "source": [
    "merged_df = df.merge(budgets_df, how='left', on='title')\n",
    "merged_df.drop(['movie_id', 'rank'], axis = 1)"
   ]
  },
  {
   "cell_type": "code",
   "execution_count": 9,
   "metadata": {},
   "outputs": [
    {
     "output_type": "execute_result",
     "data": {
      "text/plain": [
       "      title domestic_gross   distributor budget release_date_x rating  \\\n",
       "19  Aquaman      335061807  Warner Bros.   None         Dec 21  PG-13   \n",
       "\n",
       "                              genre release_duration          movie_id rank  \\\n",
       "19  Action,Adventure,Fantasy,Sci-Fi              376  Aquaman - Dec 21  148   \n",
       "\n",
       "   release_date_y  tn_budget  \n",
       "19    Dec 6, 2018  160000000  "
      ],
      "text/html": "<div>\n<style scoped>\n    .dataframe tbody tr th:only-of-type {\n        vertical-align: middle;\n    }\n\n    .dataframe tbody tr th {\n        vertical-align: top;\n    }\n\n    .dataframe thead th {\n        text-align: right;\n    }\n</style>\n<table border=\"1\" class=\"dataframe\">\n  <thead>\n    <tr style=\"text-align: right;\">\n      <th></th>\n      <th>title</th>\n      <th>domestic_gross</th>\n      <th>distributor</th>\n      <th>budget</th>\n      <th>release_date_x</th>\n      <th>rating</th>\n      <th>genre</th>\n      <th>release_duration</th>\n      <th>movie_id</th>\n      <th>rank</th>\n      <th>release_date_y</th>\n      <th>tn_budget</th>\n    </tr>\n  </thead>\n  <tbody>\n    <tr>\n      <th>19</th>\n      <td>Aquaman</td>\n      <td>335061807</td>\n      <td>Warner Bros.</td>\n      <td>None</td>\n      <td>Dec 21</td>\n      <td>PG-13</td>\n      <td>Action,Adventure,Fantasy,Sci-Fi</td>\n      <td>376</td>\n      <td>Aquaman - Dec 21</td>\n      <td>148</td>\n      <td>Dec 6, 2018</td>\n      <td>160000000</td>\n    </tr>\n  </tbody>\n</table>\n</div>"
     },
     "metadata": {},
     "execution_count": 9
    }
   ],
   "source": [
    "merged_df.loc[merged_df['title'] == 'Aquaman']"
   ]
  }
 ]
}